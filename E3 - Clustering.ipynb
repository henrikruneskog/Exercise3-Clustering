{
 "cells": [
  {
   "cell_type": "markdown",
   "id": "961c614f",
   "metadata": {},
   "source": [
    "# Exercise 3 - Clustering\n",
    "I denna övning fokuserar vi på unsupervised learning - Machine Learning utan facit. \n",
    "\n",
    "Spotify har hört av sig och är irriterade på begreppet \"genrer\". Genrer är ett utdaterat begrepp som inte reflekterar musikgrupper idag. I Ed Sheerans nya album klassades alla låtar som \"Pop\", fast att låtarna skiljde sig åt väldigt mycket. De önskar därför att vi skapar en algoritm åt dem som grupperar/clustrar låtar baserat på nya datapunkter. Till vårt befogande har vi fått en fil (spotify.csv) som innehåller ca 33.000 låtar med tillhörande datapunker.\n",
    "\n",
    "Vår uppgift är att:\n",
    "1. Tvätta datat.\n",
    "2. Skala om/normalisera data.\n",
    "3. Använda K-mean clustering för att skapa grupperingar av data.\n",
    "4. Visualisera data och jämföra hur våra grupperingar förhåller sig till de utdaterade genrerna."
   ]
  },
  {
   "cell_type": "markdown",
   "id": "a8398189",
   "metadata": {},
   "source": [
    "## Data load and cleaning"
   ]
  },
  {
   "cell_type": "code",
   "execution_count": 2,
   "id": "3b9295d8",
   "metadata": {},
   "outputs": [],
   "source": [
    "import pandas as pd\n",
    "from sklearn.cluster import KMeans\n",
    "import matplotlib.pyplot as plt\n",
    "from sklearn.model_selection import train_test_split\n",
    "from sklearn import preprocessing # (om ni vill normalisera med hjälp av paket)\n",
    "import os\n",
    "df = pd.read_csv('spotify.csv')"
   ]
  },
  {
   "cell_type": "markdown",
   "id": "cb82cd92",
   "metadata": {},
   "source": [
    "## Now to the ML of it all\n",
    "\n",
    "Eventuella problem (dead kernel) löses genom:\n",
    "\n",
    "    pip install --upgrade scikit-learn\n",
    "    pip install --upgrade pandas"
   ]
  },
  {
   "cell_type": "code",
   "execution_count": 3,
   "id": "84c1badf",
   "metadata": {
    "scrolled": true
   },
   "outputs": [],
   "source": [
    "from sklearn.cluster import KMeans\n",
    "import matplotlib.pyplot as plt"
   ]
  },
  {
   "cell_type": "markdown",
   "id": "41efb641",
   "metadata": {},
   "source": [
    "## Visualisera clusters med hjälp av PCA\n",
    "Vi reducerar vår dataframe med en massa dimensioner till endast två dimensioner."
   ]
  },
  {
   "cell_type": "code",
   "execution_count": 4,
   "id": "4eaf2e87",
   "metadata": {
    "scrolled": true
   },
   "outputs": [],
   "source": [
    "import matplotlib.pyplot as plt\n",
    "from sklearn.decomposition import PCA"
   ]
  },
  {
   "cell_type": "markdown",
   "id": "ab9e6047",
   "metadata": {},
   "source": [
    "## Extra uppgift (om tid finns över):\n",
    "Använd datasetet \"accidents.csv\" för att gruppera liknande olyckor."
   ]
  },
  {
   "cell_type": "code",
   "execution_count": 3,
   "id": "988e5a08",
   "metadata": {},
   "outputs": [],
   "source": [
    "df_accidents = pd.read_csv('accidents.csv')"
   ]
  }
 ],
 "metadata": {
  "kernelspec": {
   "display_name": "Python 3 (ipykernel)",
   "language": "python",
   "name": "python3"
  },
  "language_info": {
   "codemirror_mode": {
    "name": "ipython",
    "version": 3
   },
   "file_extension": ".py",
   "mimetype": "text/x-python",
   "name": "python",
   "nbconvert_exporter": "python",
   "pygments_lexer": "ipython3",
   "version": "3.8.11"
  }
 },
 "nbformat": 4,
 "nbformat_minor": 5
}
